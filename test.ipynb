{
 "cells": [
  {
   "cell_type": "code",
   "execution_count": null,
   "metadata": {},
   "outputs": [],
   "source": [
    "import torch\n",
    "import qtorch\n",
    "import torch.nn as nn\n",
    "from torchvision import datasets\n",
    "from torchvision import transforms\n",
    "import matplotlib.pyplot as plt\n",
    "import numpy as np\n",
    "from torch.utils.tensorboard import SummaryWriter"
   ]
  },
  {
   "cell_type": "markdown",
   "metadata": {},
   "source": [
    "### Hyperparameters"
   ]
  },
  {
   "cell_type": "code",
   "execution_count": null,
   "metadata": {},
   "outputs": [],
   "source": [
    "batch_size = 100\n",
    "hidden_size = 128\n",
    "learning_rate = 0.1\n",
    "epochs = 50\n",
    "momentum = 0.9\n",
    "rounding = \"stochastic\"\n"
   ]
  },
  {
   "cell_type": "markdown",
   "metadata": {},
   "source": [
    "### Common Variable"
   ]
  },
  {
   "cell_type": "code",
   "execution_count": null,
   "metadata": {},
   "outputs": [],
   "source": [
    "device = torch.device(\"cuda\" if torch.cuda.is_available() else \"cpu\")\n",
    "file_name = \"./test_grafici/fp14_2_\" + rounding + \"_1000_mom09__TEST\""
   ]
  },
  {
   "cell_type": "markdown",
   "metadata": {},
   "source": [
    "### Load Dataset"
   ]
  },
  {
   "cell_type": "code",
   "execution_count": null,
   "metadata": {},
   "outputs": [],
   "source": [
    "training_data = datasets.MNIST(\"./data\", train=True, transform=transforms.ToTensor(), download=True)\n",
    "test_data = datasets.MNIST(\"./data\", train=False, transform=transforms.ToTensor(), download=True)\n",
    "\n",
    "training_loader = torch.utils.data.DataLoader(dataset=training_data, batch_size=batch_size, shuffle=True)\n",
    "test_loader = torch.utils.data.DataLoader(dataset=test_data, batch_size=len(test_data), shuffle=False)\n",
    "\n",
    "# Images have same size\n",
    "input_size = np.prod(training_data[0][0].shape[1:])\n",
    "output_size = 10\n",
    "\n",
    "# images, labels = training_loader.next()\n",
    "\n",
    "# plt.imshow(images[1][0], cmap=\"gray\")\n",
    "# plt.show()\n"
   ]
  },
  {
   "cell_type": "markdown",
   "metadata": {},
   "source": [
    "### Quantization setting"
   ]
  },
  {
   "cell_type": "code",
   "execution_count": null,
   "metadata": {},
   "outputs": [],
   "source": [
    "from qtorch.quant import Quantizer, fixed_point_quantize, float_quantize\n",
    "from qtorch.optim import OptimLP\n",
    "\n",
    "wl = 14\n",
    "fl = 2\n",
    "\n",
    "forward_num = qtorch.FixedPoint(wl=wl, fl=fl)\n",
    "backward_num = qtorch.FixedPoint(wl=wl, fl=fl)\n",
    "\n",
    "# forward_num = qtorch.FloatingPoint(exp=5, man=10)\n",
    "# backward_num = qtorch.FloatingPoint(exp=5, man=10)\n",
    "\n",
    "Q = Quantizer(forward_number=forward_num, backward_number=backward_num, forward_rounding=rounding, backward_rounding=rounding)\n",
    "# Q = lambda x : x\n",
    "\n",
    "weight_quant = lambda x : fixed_point_quantize(x, wl=wl,fl=fl, rounding=rounding)\n",
    "gradient_quant = lambda x : fixed_point_quantize(x, wl=wl,fl=fl, rounding=rounding)\n",
    "acc_quant = lambda x : fixed_point_quantize(x, wl=2*wl,fl=2*fl, rounding=rounding)"
   ]
  },
  {
   "cell_type": "markdown",
   "metadata": {},
   "source": [
    "### Neural Network"
   ]
  },
  {
   "cell_type": "code",
   "execution_count": null,
   "metadata": {},
   "outputs": [],
   "source": [
    "class LinearModule(nn.Module):\n",
    "    \n",
    "    def __init__(self, input_size, output_size, hidden_size):\n",
    "        super(LinearModule, self).__init__()\n",
    "\n",
    "        self.l1 = nn.Linear(input_size, hidden_size)\n",
    "        self.act1 = nn.ReLU()\n",
    "\n",
    "        self.l2 = nn.Linear(hidden_size, hidden_size)\n",
    "        self.act2 = nn.ReLU()\n",
    "\n",
    "        self.output_layer = nn.Linear(hidden_size, output_size)\n",
    "\n",
    "    def forward(self, x):\n",
    "        out = Q(self.l1(x))\n",
    "        out = Q(self.act1(out))\n",
    "        out = Q(self.l2(out))\n",
    "        out = Q(self.act2(out))\n",
    "        out = Q(self.output_layer(out))\n",
    "        return out\n",
    "\n",
    "model = LinearModule(input_size, output_size, hidden_size)\n",
    "\n",
    "loss_function = nn.CrossEntropyLoss()\n",
    "optimizer = torch.optim.SGD(model.parameters(), momentum=momentum, lr=learning_rate)\n",
    "optimizer = OptimLP(optimizer,weight_quant=weight_quant, grad_quant=gradient_quant, acc_quant=acc_quant)"
   ]
  },
  {
   "cell_type": "markdown",
   "metadata": {},
   "source": [
    "### Model Test"
   ]
  },
  {
   "cell_type": "code",
   "execution_count": null,
   "metadata": {},
   "outputs": [],
   "source": [
    "def getAccuracy(model):\n",
    "\n",
    "    with torch.no_grad():\n",
    "        images, labels = iter(test_loader).next()\n",
    "        images = images.to(device)\n",
    "        labels = labels.to(device)\n",
    "        output = model(images.reshape(-1, input_size))\n",
    "        _, predictions = torch.max(output, 1)\n",
    "        acc = (predictions == labels).sum().item()\n",
    "        acc = 100 * acc / len(images)\n",
    "\n",
    "        return acc"
   ]
  },
  {
   "cell_type": "markdown",
   "metadata": {},
   "source": [
    "### Training"
   ]
  },
  {
   "cell_type": "code",
   "execution_count": null,
   "metadata": {},
   "outputs": [],
   "source": [
    "writer = SummaryWriter(file_name)\n",
    "\n",
    "for epoch in range(epochs):\n",
    "\n",
    "    loss = None\n",
    "\n",
    "    for i, (images, labels) in enumerate(training_loader):\n",
    "        \n",
    "        step = (i+1) + epoch * len(training_loader)\n",
    "\n",
    "        # Forward phase\n",
    "        images = images.reshape(-1, input_size).to(device)\n",
    "        labels = labels.to(device)\n",
    "        predictions = model(images)\n",
    "        loss = loss_function(predictions, labels)\n",
    "\n",
    "        #Backpropagation\n",
    "        optimizer.zero_grad()\n",
    "        loss.backward()\n",
    "        optimizer.step()\n",
    "\n",
    "        if i % 100 == 0:\n",
    "            print(f\"epoch = {epoch+1}/{epochs}, step = {i}/{len(training_loader)}, loss = {loss}\")\n",
    "            \n",
    "    # Save on tensorboard\n",
    "    writer.add_scalar(\"Training loss\", loss, epoch)\n",
    "\n",
    "    # Evaluate accuracy on test data\n",
    "    acc = getAccuracy(model)\n",
    "    writer.add_scalar(\"Validation accuracy\", acc, epoch)\n",
    "\n",
    "    # Update learning rate\n",
    "    for g in optimizer.param_groups:\n",
    "        g['lr'] = learning_rate * 0.95\n",
    "\n",
    "writer.close()"
   ]
  },
  {
   "cell_type": "markdown",
   "metadata": {},
   "source": [
    "## Tipologie di test\n",
    "- float32\n",
    "- float16\n",
    "- fixed point\n",
    "    - 14(2)\n",
    "        - nearest\n",
    "        - stochastic\n",
    "    - 12(4)\n",
    "        - nearest\n",
    "        - stochastic"
   ]
  }
 ],
 "metadata": {
  "kernelspec": {
   "display_name": "Python 3.10.8 64-bit",
   "language": "python",
   "name": "python3"
  },
  "language_info": {
   "codemirror_mode": {
    "name": "ipython",
    "version": 3
   },
   "file_extension": ".py",
   "mimetype": "text/x-python",
   "name": "python",
   "nbconvert_exporter": "python",
   "pygments_lexer": "ipython3",
   "version": "3.10.4"
  },
  "orig_nbformat": 4,
  "vscode": {
   "interpreter": {
    "hash": "1a32be92701276002c3a8928f39e8df46bba964be6a742c4fcb624c4dac10f21"
   }
  }
 },
 "nbformat": 4,
 "nbformat_minor": 2
}
